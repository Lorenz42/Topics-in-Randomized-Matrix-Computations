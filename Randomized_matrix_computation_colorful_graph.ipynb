{
 "cells": [
  {
   "cell_type": "code",
   "execution_count": 41,
   "metadata": {},
   "outputs": [],
   "source": [
    "import networkx as nx\n",
    "import random\n",
    "import math\n",
    "import time\n",
    "import matplotlib.pyplot as plt"
   ]
  },
  {
   "cell_type": "code",
   "execution_count": 2,
   "metadata": {},
   "outputs": [
    {
     "name": "stdout",
     "output_type": "stream",
     "text": [
      "done\n"
     ]
    }
   ],
   "source": [
    "G = nx.random_internet_as_graph(10000)\n",
    "print(\"done\")"
   ]
  },
  {
   "cell_type": "code",
   "execution_count": 34,
   "metadata": {},
   "outputs": [
    {
     "name": "stdout",
     "output_type": "stream",
     "text": [
      "10308.999999999998\n"
     ]
    }
   ],
   "source": [
    "\n",
    "\n",
    "def triangle_count_scaled(G: nx.Graph, N: int) -> float:\n",
    "    \"\"\"\n",
    "    Implements the algorithm to count triangles in a subgraph G' where edges (i,j)\n",
    "    are retained only if xi == xj, with xi sampled from a uniform distribution over {1,...,N}.\n",
    "    \n",
    "    Parameters:\n",
    "        G (nx.Graph): The original graph.\n",
    "        N (int): Positive integer to define the range of the uniform distribution.\n",
    "    \n",
    "    Returns:\n",
    "        float: Scaled triangle count T' / p\n",
    "    \"\"\"\n",
    "    if N <= 0:\n",
    "        raise ValueError(\"N must be a positive integer.\")\n",
    "    \n",
    "    p = 1 / N\n",
    "    n = len(G.nodes)\n",
    "    \n",
    "    # Step 3: Sample xi values for each node\n",
    "    x = {node: random.randint(1, N) for node in G.nodes}\n",
    "    \n",
    "    # Step 4: Construct E' by keeping only edges where xi == xj\n",
    "    E_prime = [(u, v) for (u, v) in G.edges if x[u] == x[v]]\n",
    "    \n",
    "    # Create G' with same nodes but filtered edges\n",
    "    G_prime = nx.Graph()\n",
    "    G_prime.add_nodes_from(G.nodes)\n",
    "    G_prime.add_edges_from(E_prime)\n",
    "    \n",
    "    # Step 5: Count triangles\n",
    "    triangles_per_node = nx.triangles(G_prime)\n",
    "    T_prime = sum(triangles_per_node.values()) // 3  # Each triangle is counted 3 times\n",
    "    \n",
    "    # Step 6: Return scaled triangle count\n",
    "    return T_prime / p**2\n",
    "\n",
    "print(triangle_count_scaled(G, 13))"
   ]
  },
  {
   "cell_type": "code",
   "execution_count": 13,
   "metadata": {},
   "outputs": [],
   "source": [
    "def exact_number_of_triangles_function(G):\n",
    "     # Step 2: Compute wedge counts per vertex\n",
    "    wedge_counts = {}\n",
    "    total_wedges = 0\n",
    "    for v in G.nodes():\n",
    "        d = G.degree(v)\n",
    "        w = math.comb(d, 2) if d >= 2 else 0\n",
    "        wedge_counts[v] = w\n",
    "        total_wedges += w\n",
    "        \n",
    "    exact_number_of_triangle = sum(nx.triangles(G).values()) // 3\n",
    "    \n",
    "    \n",
    "    return exact_number_of_triangle"
   ]
  },
  {
   "cell_type": "code",
   "execution_count": 11,
   "metadata": {},
   "outputs": [
    {
     "data": {
      "text/plain": [
       "10684"
      ]
     },
     "execution_count": 11,
     "metadata": {},
     "output_type": "execute_result"
    }
   ],
   "source": [
    "exact_number_of_triangles_function(G)"
   ]
  },
  {
   "cell_type": "code",
   "execution_count": 38,
   "metadata": {},
   "outputs": [
    {
     "name": "stdout",
     "output_type": "stream",
     "text": [
      "(0.16687159999855794, 1.4092898000017158, 30000.0, 10684)\n"
     ]
    }
   ],
   "source": [
    "def measure_execution_time(G, N):\n",
    "    # Time function f\n",
    "    start_f = time.perf_counter()\n",
    "    result_f = triangle_count_scaled(G,N)\n",
    "    end_f = time.perf_counter()\n",
    "    time_f = end_f - start_f\n",
    "\n",
    "    # Time function g\n",
    "    start_g = time.perf_counter()\n",
    "    result_g = exact_number_of_triangles_function(G)\n",
    "    end_g = time.perf_counter()\n",
    "    time_g = end_g - start_g\n",
    "    return time_f, time_g, result_f, result_g\n",
    "\n",
    "print(measure_execution_time(G, 100))"
   ]
  },
  {
   "cell_type": "code",
   "execution_count": 47,
   "metadata": {},
   "outputs": [
    {
     "data": {
      "image/png": "[encoded data removed]",
      "text/plain": [
       "<Figure size 576x432 with 1 Axes>"
      ]
     },
     "metadata": {
      "needs_background": "light"
     },
     "output_type": "display_data"
    }
   ],
   "source": [
    "# Parameters\n",
    "N_values = [1,2,5, 10, 20, 50, 100]\n",
    "num_trials = 3\n",
    "\n",
    "# Data storage\n",
    "x_vals_blue = []\n",
    "y_vals_blue_time_approx = []\n",
    "y_vals_time_exact = []\n",
    "x_vals_red = []\n",
    "y_vals_red_error = []\n",
    "\n",
    "\n",
    "# Run experiments\n",
    "\n",
    "for N in N_values:\n",
    "    outputs_time_exact = []\n",
    "    outputs_time_approximate =[]\n",
    "    output_relative_error = []  \n",
    "    for i in range(num_trials):\n",
    "        first, second , aprox_result, exact_result= measure_execution_time(G, N)\n",
    "        outputs_time_approximate.append(first)\n",
    "        outputs_time_exact.append(second)\n",
    "        output_relative_error.append(abs((aprox_result-exact_result))/exact_result)\n",
    "    # Use average of second outputs for red point\n",
    "    avg_time_aprox = sum(outputs_time_approximate) / num_trials\n",
    "    avg_time_exact = sum(outputs_time_exact) / num_trials\n",
    "    avg_rel_error = sum(output_relative_error)/num_trials\n",
    "    \n",
    "    x_vals_red.append(N)\n",
    "    y_vals_blue_time_approx.append(avg_time_aprox)\n",
    "    x_vals_blue.append(N)\n",
    "    y_vals_time_exact.append(avg_time_exact)\n",
    "    y_vals_red_error.append(avg_rel_error)\n",
    "\n",
    "\n"
   ]
  },
  {
   "cell_type": "code",
   "execution_count": 53,
   "metadata": {},
   "outputs": [
    {
     "data": {
      "image/png": "[encoded data removed]",
      "text/plain": [
       "<Figure size 576x432 with 1 Axes>"
      ]
     },
     "metadata": {
      "needs_background": "light"
     },
     "output_type": "display_data"
    }
   ],
   "source": [
    "# Plotting\n",
    "plt.figure(figsize=(8, 6))\n",
    "\n",
    "# Blue points (first outputs)\n",
    "plt.scatter(x_vals_blue, y_vals_blue_time_approx, color='blue', label='Colorful triangle counting')\n",
    "\n",
    "# Red points\n",
    "plt.scatter(x_vals_red, y_vals_time_exact, color='red', label='Deterministic algorithm')\n",
    "\n",
    "\n",
    "\n",
    "plt.xscale('log')\n",
    "plt.xlabel('N')\n",
    "plt.ylabel('Time [s]')\n",
    "plt.title('Average running time')\n",
    "plt.legend()\n",
    "plt.grid(True)\n",
    "plt.tight_layout()\n",
    "plt.savefig(\"color_running_time_plot.png\", dpi=300, bbox_inches=\"tight\")\n",
    "plt.show()"
   ]
  },
  {
   "cell_type": "code",
   "execution_count": 48,
   "metadata": {},
   "outputs": [
    {
     "data": {
      "image/png": "[encoded data removed]",
      "text/plain": [
       "<Figure size 576x432 with 1 Axes>"
      ]
     },
     "metadata": {
      "needs_background": "light"
     },
     "output_type": "display_data"
    }
   ],
   "source": [
    "# Plotting\n",
    "plt.figure(figsize=(8, 6))\n",
    "\n",
    "# Blue points (first outputs)\n",
    "plt.scatter(y_vals_blue_time_approx,y_vals_red_error, color='green', label='Colorful triangle counting')\n",
    "\n",
    "\n",
    "\n",
    "\n",
    "\n",
    "plt.xscale('log')\n",
    "plt.xlabel('Average running time')\n",
    "plt.ylabel('Relative error')\n",
    "plt.title('Average running time')\n",
    "plt.legend()\n",
    "plt.grid(True)\n",
    "plt.tight_layout()\n",
    "#plt.savefig(\"running_time_plot.png\", dpi=300, bbox_inches=\"tight\")\n",
    "plt.show()"
   ]
  },
  {
   "cell_type": "code",
   "execution_count": 52,
   "metadata": {
    "scrolled": true
   },
   "outputs": [
    {
     "data": {
      "image/png": "[encoded data removed]",
      "text/plain": [
       "<Figure size 576x432 with 1 Axes>"
      ]
     },
     "metadata": {
      "needs_background": "light"
     },
     "output_type": "display_data"
    }
   ],
   "source": [
    "point_labels =[\"1\",\"2\",\"5\", \"10\", \"20\", \"50\", \"100\"]\n",
    "plt.figure(figsize=(8, 6))\n",
    "\n",
    "# Scatter plot\n",
    "plt.scatter(y_vals_blue_time_approx, y_vals_red_error, color='green', label='Colorful triangle counting')\n",
    "\n",
    "# Annotate each point with a label\n",
    "for x, y, label in zip(y_vals_blue_time_approx, y_vals_red_error, point_labels):\n",
    "    plt.text(x, y, label, fontsize=15, ha='left', va='bottom')\n",
    "\n",
    "# Axes and layout\n",
    "plt.xscale('log')\n",
    "plt.xlabel('Average running time')\n",
    "plt.ylabel('Relative error')\n",
    "plt.title('Average running time')\n",
    "plt.legend()\n",
    "plt.grid(True)\n",
    "plt.tight_layout()\n",
    "plt.savefig(\"colorful_time_relativ_error.png\", dpi=300, bbox_inches=\"tight\")\n",
    "plt.show()"
   ]
  },
  {
   "cell_type": "code",
   "execution_count": 54,
   "metadata": {},
   "outputs": [],
   "source": [
    "def max_triangles_in_edges(graph):\n",
    "    \"\"\"\n",
    "    Calculate the maximum number of triangles any edge in the graph is part of.\n",
    "\n",
    "    :param graph: dict, adjacency list representation of an undirected graph\n",
    "    :return: int, maximum number of triangles for any edge\n",
    "    \"\"\"\n",
    "    max_triangles = 0\n",
    "\n",
    "    for node in graph:\n",
    "        neighbors = graph[node]\n",
    "        for neighbor in neighbors:\n",
    "            # Ensure we process each edge only once\n",
    "            if neighbor > node:\n",
    "                continue\n",
    "            # Find the common neighbors (intersection of adjacency lists)\n",
    "            common_neighbors = set(graph[node]) & set(graph[neighbor])\n",
    "            num_triangles = len(common_neighbors)\n",
    "            max_triangles = max(max_triangles, num_triangles)\n",
    "\n",
    "    return max_triangles\n"
   ]
  },
  {
   "cell_type": "code",
   "execution_count": 55,
   "metadata": {},
   "outputs": [
    {
     "data": {
      "text/plain": [
       "231"
      ]
     },
     "execution_count": 55,
     "metadata": {},
     "output_type": "execute_result"
    }
   ],
   "source": [
    "max_triangles_in_edges(G)"
   ]
  },
  {
   "cell_type": "code",
   "execution_count": 65,
   "metadata": {},
   "outputs": [],
   "source": [
    "def p_choice(G):\n",
    "    T = exact_number_of_triangles_function(G)\n",
    "    C = max_triangles_in_edges(G)\n",
    "    n = len(G)\n",
    "    p_1 = 6*C*math.log(n)/T\n",
    "    p_2 = math.sqrt(2*math.log(n)/T)\n",
    "    return max(p_1,p_2)\n"
   ]
  },
  {
   "cell_type": "code",
   "execution_count": 66,
   "metadata": {},
   "outputs": [
    {
     "data": {
      "text/plain": [
       "0.199137834699223"
      ]
     },
     "execution_count": 66,
     "metadata": {},
     "output_type": "execute_result"
    }
   ],
   "source": [
    "p_choice(G)"
   ]
  },
  {
   "cell_type": "code",
   "execution_count": null,
   "metadata": {},
   "outputs": [],
   "source": [
    "F = nx.random_internet_as_graph(100000)\n",
    "print(\"done\")"
   ]
  },
  {
   "cell_type": "code",
   "execution_count": null,
   "metadata": {},
   "outputs": [],
   "source": [
    "p_choice(F)"
   ]
  }
 ],
 "metadata": {
  "kernelspec": {
   "display_name": "Python 3",
   "language": "python",
   "name": "python3"
  },
  "language_info": {
   "codemirror_mode": {
    "name": "ipython",
    "version": 3
   },
   "file_extension": ".py",
   "mimetype": "text/x-python",
   "name": "python",
   "nbconvert_exporter": "python",
   "pygments_lexer": "ipython3",
   "version": "3.8.7"
  }
 },
 "nbformat": 4,
 "nbformat_minor": 4
}
