{
 "cells": [
  {
   "cell_type": "code",
   "execution_count": 1,
   "metadata": {},
   "outputs": [],
   "source": [
    "# importing libraries\n",
    "import networkx as nx\n",
    "import random\n",
    "import math\n",
    "from collections import defaultdict\n",
    "from itertools import combinations\n",
    "import matplotlib.pyplot as plt\n",
    "import time"
   ]
  },
  {
   "cell_type": "code",
   "execution_count": 2,
   "metadata": {},
   "outputs": [
    {
     "name": "stdout",
     "output_type": "stream",
     "text": [
      "Graph is loaded!\n"
     ]
    }
   ],
   "source": [
    "# importing graph\n",
    "\n",
    "G = nx.random_internet_as_graph(10000)\n",
    "print(\"Graph is loaded!\")"
   ]
  },
  {
   "cell_type": "code",
   "execution_count": 3,
   "metadata": {},
   "outputs": [],
   "source": [
    "def transivity(G, epsilon=0.1, delta=0.05, seed=None):\n",
    "    if seed is not None:\n",
    "        random.seed(seed)\n",
    "\n",
    "    # Step 1: Calculate number of samples needed\n",
    "    n_samples = math.ceil(math.log(2 / delta) / (2 * epsilon**2))\n",
    "\n",
    "    # Step 2: Compute wedge counts per vertex\n",
    "    wedge_counts = {}\n",
    "    total_wedges = 0\n",
    "    for v in G.nodes():\n",
    "        d = G.degree(v)\n",
    "        w = math.comb(d, 2) if d >= 2 else 0\n",
    "        wedge_counts[v] = w\n",
    "        total_wedges += w\n",
    "\n",
    "    if total_wedges == 0:\n",
    "        print(\"No wedges in the graph.\")\n",
    "        return 0\n",
    "\n",
    "    # Step 3: Create sampling distribution π_v = wedge_count / total_wedges\n",
    "    distribution = [wedge_counts[v] / total_wedges for v in G.nodes()]\n",
    "    nodes = list(G.nodes())\n",
    "\n",
    "    # Step 4: Sample n vertices according to π\n",
    "    sampled_vertices = random.choices(nodes, weights=distribution, k=n_samples)\n",
    "\n",
    "    # Step 5: For each sampled vertex, pick a wedge (i.e., two random neighbors)\n",
    "    closed_wedge_count = 0\n",
    "    for v in sampled_vertices:\n",
    "        neighbors = list(G.neighbors(v))\n",
    "        if len(neighbors) < 2:\n",
    "            continue  # No wedge possible\n",
    "\n",
    "        # Pick a random pair of neighbors (i.e., wedge)\n",
    "        u, w = random.sample(neighbors, 2)\n",
    "        # Check if the wedge is closed (i.e., u and w are connected)\n",
    "        if G.has_edge(u, w):\n",
    "            closed_wedge_count += 1\n",
    "\n",
    "    # Step 6: Estimate fraction of closed wedges\n",
    "    transivity_estimate = closed_wedge_count / n_samples\n",
    "\n",
    "    # Step 7: Return triangle estimate\n",
    "    \n",
    "    return transivity_estimate"
   ]
  },
  {
   "cell_type": "code",
   "execution_count": 4,
   "metadata": {},
   "outputs": [],
   "source": [
    "def transitivity_exact_function(G):\n",
    "     # Step 2: Compute wedge counts per vertex\n",
    "    wedge_counts = {}\n",
    "    total_wedges = 0\n",
    "    for v in G.nodes():\n",
    "        d = G.degree(v)\n",
    "        w = math.comb(d, 2) if d >= 2 else 0\n",
    "        wedge_counts[v] = w\n",
    "        total_wedges += w\n",
    "        \n",
    "    exact_number_of_triangle = sum(nx.triangles(G).values()) // 3\n",
    "    transitivity_exact = 3*exact_number_of_triangle / total_wedges\n",
    "    \n",
    "    return transitivity_exact"
   ]
  },
  {
   "cell_type": "code",
   "execution_count": 5,
   "metadata": {},
   "outputs": [],
   "source": [
    "def measure_execution_time(G,epsilon=0.1):\n",
    "    # Time function f\n",
    "    start_f = time.perf_counter()\n",
    "    result_f = transivity(G, epsilon, delta=0.05, seed=None)\n",
    "    end_f = time.perf_counter()\n",
    "    time_f = end_f - start_f\n",
    "\n",
    "    # Time function g\n",
    "    start_g = time.perf_counter()\n",
    "    result_g = transitivity_exact_function(G)\n",
    "    end_g = time.perf_counter()\n",
    "    time_g = end_g - start_g\n",
    "\n",
    "    return time_f, time_g"
   ]
  },
  {
   "cell_type": "code",
   "execution_count": 8,
   "metadata": {},
   "outputs": [],
   "source": [
    "# Parameters\n",
    "epsilons = [0.01, 0.02, 0.03, 0.04, 0.05, 0.06, 0.07]\n",
    "delta = 0.1\n",
    "num_trials = 20\n",
    "\n",
    "# Data storage\n",
    "x_vals_blue = []\n",
    "y_vals_blue = []\n",
    "x_vals_red = []\n",
    "y_vals_red = []\n",
    "\n",
    "\n",
    "# Run experiments\n",
    "for eps in epsilons:\n",
    "    blue_outputs = []\n",
    "    red_outputs =[]\n",
    "    for i in range(num_trials):\n",
    "        first, second = measure_execution_time(G, epsilon=eps)\n",
    "\n",
    "        blue_outputs.append(first)\n",
    "        red_outputs.append(second)\n",
    "    # Use average of second outputs for red point\n",
    "    avg_blue = sum(blue_outputs) / num_trials\n",
    "    avg_red = sum(red_outputs) / num_trials\n",
    "    x_vals_red.append(eps)\n",
    "    y_vals_red.append(avg_red)\n",
    "    x_vals_blue.append(eps)\n",
    "    y_vals_blue.append(avg_blue)"
   ]
  },
  {
   "cell_type": "code",
   "execution_count": 9,
   "metadata": {},
   "outputs": [
    {
     "data": {
      "image/png": "[encoded data removed]",
      "text/plain": [
       "<Figure size 576x432 with 1 Axes>"
      ]
     },
     "metadata": {
      "needs_background": "light"
     },
     "output_type": "display_data"
    }
   ],
   "source": [
    "# Plotting\n",
    "plt.figure(figsize=(8, 6))\n",
    "\n",
    "# Blue points (first outputs)\n",
    "plt.scatter(x_vals_blue, y_vals_blue, color='blue', label='Wedge sampling algorithm')\n",
    "\n",
    "# Red points\n",
    "plt.scatter(x_vals_red, y_vals_red, color='red', label='Deterministic algorithm')\n",
    "\n",
    "font_size = 14\n",
    "\n",
    "plt.xscale('log')\n",
    "plt.xlabel('Epsilon', fontsize= font_size)\n",
    "plt.ylabel('Time [s]', fontsize = font_size)\n",
    "plt.title('Average running time for 20 runs for delta=0.1', fontsize=font_size)\n",
    "plt.legend()\n",
    "plt.grid(True)\n",
    "plt.tight_layout()\n",
    "plt.savefig(\"transitivity_running_time_plot.png\", dpi=300, bbox_inches=\"tight\")\n",
    "plt.show()"
   ]
  }
 ],
 "metadata": {
  "kernelspec": {
   "display_name": "Python 3",
   "language": "python",
   "name": "python3"
  },
  "language_info": {
   "codemirror_mode": {
    "name": "ipython",
    "version": 3
   },
   "file_extension": ".py",
   "mimetype": "text/x-python",
   "name": "python",
   "nbconvert_exporter": "python",
   "pygments_lexer": "ipython3",
   "version": "3.8.7"
  }
 },
 "nbformat": 4,
 "nbformat_minor": 4
}
